{
 "cells": [
  {
   "cell_type": "markdown",
   "metadata": {},
   "source": [
    "# Ejercicio 1\n"
   ]
  },
  {
   "cell_type": "code",
   "execution_count": 8,
   "metadata": {},
   "outputs": [
    {
     "name": "stdout",
     "output_type": "stream",
     "text": [
      "Reporte de Combustible\n",
      "    Promedio de combustible = 25.666666666666668%\n",
      "    Tanque 1 = 40%\n",
      "    Tanque 2 = 22%\n",
      "    Tanque 3 = 15%\n",
      "    \n"
     ]
    }
   ],
   "source": [
    "def lectura_tanques(tanque_1, tanque_2, tanque_3):\n",
    "    average = (tanque_1 + tanque_2 + tanque_3)/3\n",
    "    return f\"\"\"Reporte de Combustible\n",
    "    Promedio de combustible = {average}%\n",
    "    Tanque 1 = {tanque_1}%\n",
    "    Tanque 2 = {tanque_2}%\n",
    "    Tanque 3 = {tanque_3}%\n",
    "    \"\"\"\n",
    "\n",
    "print(lectura_tanques(40,22,15))"
   ]
  },
  {
   "cell_type": "code",
   "execution_count": 7,
   "metadata": {},
   "outputs": [
    {
     "name": "stdout",
     "output_type": "stream",
     "text": [
      "Reporte de Combustible\n",
      "    Promedio de combustible = 25.666666666666668%\n",
      "    Tanque 1 = 40%\n",
      "    Tanque 2 = 22%\n",
      "    Tanque 3 = 15%\n",
      "    \n"
     ]
    }
   ],
   "source": [
    "def promedio(valores):\n",
    "    total = sum(valores)\n",
    "    cantidad = len(valores)\n",
    "    return total/cantidad\n",
    "\n",
    "##print(promedio([40,22,15]))\n",
    "\n",
    "def lectura_tanques(tanque_1, tanque_2, tanque_3):\n",
    "    return f\"\"\"Reporte de Combustible\n",
    "    Promedio de combustible = {promedio([tanque_1,tanque_2,tanque_3])}%\n",
    "    Tanque 1 = {tanque_1}%\n",
    "    Tanque 2 = {tanque_2}%\n",
    "    Tanque 3 = {tanque_3}%\n",
    "    \"\"\"\n",
    "print(lectura_tanques(40,22,15))"
   ]
  },
  {
   "cell_type": "markdown",
   "metadata": {},
   "source": [
    "# Ejercicio 2\n"
   ]
  },
  {
   "cell_type": "code",
   "execution_count": 9,
   "metadata": {},
   "outputs": [
    {
     "name": "stdout",
     "output_type": "stream",
     "text": [
      "\n",
      "    Misión a ISS\n",
      "    Tiempo total 1860 minutos\n",
      "    Combustible = 158 litros\n",
      "    \n"
     ]
    }
   ],
   "source": [
    "def mision_report(hora_prelanzamiento,tiempo_vuelo,destino,tanque_externo,tanque_interno):\n",
    "    return f\"\"\"\n",
    "    Misión a {destino}\n",
    "    Tiempo total: {hora_prelanzamiento + tiempo_vuelo} minutos\n",
    "    Combustible: {tanque_externo + tanque_interno} litros\n",
    "    \"\"\"\n",
    "\n",
    "print(mision_report(360,1500,'ISS',100,58))"
   ]
  },
  {
   "cell_type": "code",
   "execution_count": 12,
   "metadata": {},
   "outputs": [
    {
     "name": "stdout",
     "output_type": "stream",
     "text": [
      "\n",
      "    Misión a ISS\n",
      "    Tiempo total: 146 minutos\n",
      "    Combustible: 158 litros\n",
      "    \n"
     ]
    }
   ],
   "source": [
    "def mision_report(destino, *minutes,**fuel_reservoirs):\n",
    "    return f\"\"\"\n",
    "    Misión a {destino}\n",
    "    Tiempo total: {sum(minutes)} minutos\n",
    "    Combustible: {sum(fuel_reservoirs.values())} litros\n",
    "    \"\"\"\n",
    "\n",
    "print(mision_report('ISS',48,75,23,principal=100,externo=58))"
   ]
  },
  {
   "cell_type": "code",
   "execution_count": 15,
   "metadata": {},
   "outputs": [
    {
     "name": "stdout",
     "output_type": "stream",
     "text": [
      "\n",
      "    Misión a ISS\n",
      "    Tiempo total: 146 minutos\n",
      "    Combustible: 158 litros\n",
      "    Tanque principal: 100 litros\n",
      "\tTanque externo: 58 litros\n",
      "\t\n"
     ]
    }
   ],
   "source": [
    "def mision_report(destino, *minutes,**fuel_reservoirs):\n",
    "    reporte = f\"\"\"\n",
    "    Misión a {destino}\n",
    "    Tiempo total: {sum(minutes)} minutos\n",
    "    Combustible: {sum(fuel_reservoirs.values())} litros\n",
    "    \"\"\"\n",
    "    for tanque, litros in fuel_reservoirs.items():\n",
    "        reporte += f\"Tanque {tanque}: {litros} litros\\n\\t\"\n",
    "    return reporte\n",
    "\n",
    "print(mision_report('ISS',48,75,23,principal=100,externo=58))"
   ]
  }
 ],
 "metadata": {
  "interpreter": {
   "hash": "6c19d1d0c0edf94f611f0c11a690477410d0681efa1dd5d3af53a1559752bc35"
  },
  "kernelspec": {
   "display_name": "Python 3.10.0 64-bit",
   "language": "python",
   "name": "python3"
  },
  "language_info": {
   "codemirror_mode": {
    "name": "ipython",
    "version": 3
   },
   "file_extension": ".py",
   "mimetype": "text/x-python",
   "name": "python",
   "nbconvert_exporter": "python",
   "pygments_lexer": "ipython3",
   "version": "3.10.0"
  },
  "orig_nbformat": 4
 },
 "nbformat": 4,
 "nbformat_minor": 2
}
