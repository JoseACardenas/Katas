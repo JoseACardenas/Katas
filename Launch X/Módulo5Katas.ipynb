{
 "cells": [
  {
   "cell_type": "code",
   "execution_count": 4,
   "metadata": {},
   "outputs": [
    {
     "name": "stdout",
     "output_type": "stream",
     "text": [
      "La distancia en kilómetros es:  628949330\n",
      "La distancia en millas es:  390577534\n"
     ]
    }
   ],
   "source": [
    "from math import ceil, floor\n",
    "\n",
    "dtierra = 149597870\n",
    "djupiter = 778547200\n",
    "\n",
    "dkm = abs(dtierra - djupiter)\n",
    "dmilla = ceil(dkm * 0.621)\n",
    "\n",
    "print('La distancia en kilómetros es: ',dkm)\n",
    "print('La distancia en millas es: ',dmilla)"
   ]
  },
  {
   "cell_type": "code",
   "execution_count": 7,
   "metadata": {},
   "outputs": [
    {
     "name": "stdout",
     "output_type": "stream",
     "text": [
      "La distancia en kilómetros es:  3\n",
      "La distancia en millas es:  1.863\n"
     ]
    }
   ],
   "source": [
    "planeta_1 = input('Distancia del primer planeta: ')\n",
    "planeta_2 = input('Distancia para el segundo planeta: ')\n",
    "planeta_1 = int(planeta_1)\n",
    "planeta_2 = int(planeta_2)\n",
    "\n",
    "dkm = abs(planeta_1 - planeta_2)\n",
    "dmilla = dkm * 0.621\n",
    "\n",
    "print('La distancia en kilómetros es: ',dkm)\n",
    "print('La distancia en millas es: ',dmilla)\n"
   ]
  }
 ],
 "metadata": {
  "interpreter": {
   "hash": "6c19d1d0c0edf94f611f0c11a690477410d0681efa1dd5d3af53a1559752bc35"
  },
  "kernelspec": {
   "display_name": "Python 3.10.0 64-bit",
   "language": "python",
   "name": "python3"
  },
  "language_info": {
   "codemirror_mode": {
    "name": "ipython",
    "version": 3
   },
   "file_extension": ".py",
   "mimetype": "text/x-python",
   "name": "python",
   "nbconvert_exporter": "python",
   "pygments_lexer": "ipython3",
   "version": "3.10.0"
  },
  "orig_nbformat": 4
 },
 "nbformat": 4,
 "nbformat_minor": 2
}
