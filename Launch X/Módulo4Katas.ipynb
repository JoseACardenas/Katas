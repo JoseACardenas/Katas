{
 "cells": [
  {
   "cell_type": "markdown",
   "metadata": {},
   "source": [
    "# EJERCICIO 1"
   ]
  },
  {
   "cell_type": "code",
   "execution_count": 50,
   "metadata": {},
   "outputs": [
    {
     "data": {
      "text/plain": [
       "['Interesting facts about the Moon',\n",
       " \"The Moon is Earth's only satellite\",\n",
       " 'There are several interesting facts about the Moon and how it affects life here on Earth',\n",
       " 'On average, the Moon moves 4cm away from the Earth every year',\n",
       " 'This yearly drift is not significant enough to cause immediate effects on Earth',\n",
       " 'The highest daylight temperature of the Moon is 127 C.']"
      ]
     },
     "execution_count": 50,
     "metadata": {},
     "output_type": "execute_result"
    }
   ],
   "source": [
    "text = \"\"\"Interesting facts about the Moon. The Moon is Earth's only satellite. There are several interesting facts about the Moon and how it affects life here on Earth. On average, the Moon moves 4cm away from the Earth every year. This yearly drift is not significant enough to cause immediate effects on Earth. The highest daylight temperature of the Moon is 127 C.\"\"\"\n",
    "\n",
    "partes = text.split('. ')\n",
    "partes\n",
    "\n",
    "\n"
   ]
  },
  {
   "cell_type": "code",
   "execution_count": 51,
   "metadata": {},
   "outputs": [
    {
     "name": "stdout",
     "output_type": "stream",
     "text": [
      "On average, the Moon moves 4cm away from the Earth every year\n",
      "The highest daylight temperature of the Moon is 127 C.\n"
     ]
    }
   ],
   "source": [
    "claves = [\"average\", \"temperature\", \"distance\"]\n",
    "\n",
    "for sentence in partes:\n",
    "    for clave in claves:\n",
    "        if clave in sentence:\n",
    "            print(sentence)\n",
    "            break"
   ]
  },
  {
   "cell_type": "code",
   "execution_count": 52,
   "metadata": {},
   "outputs": [
    {
     "name": "stdout",
     "output_type": "stream",
     "text": [
      "The highest daylight temperature of the Moon is 127 Celsius.\n"
     ]
    }
   ],
   "source": [
    "claves = 'C'\n",
    "\n",
    "for sentence in partes:\n",
    "    for clave in claves:\n",
    "        if clave in sentence:\n",
    "            print(sentence.replace('C','Celsius'))\n",
    "            break"
   ]
  },
  {
   "cell_type": "markdown",
   "metadata": {},
   "source": [
    "# Ejercicio 2"
   ]
  },
  {
   "cell_type": "code",
   "execution_count": 53,
   "metadata": {},
   "outputs": [
    {
     "name": "stdout",
     "output_type": "stream",
     "text": [
      "Gravedad De Earth Y Moon\n",
      "--------------------------------------------------------------------------------\n",
      "Nombre del Planeta: Earth\n",
      "Gravedad en Moon:1.6199999999999999 m/s^2\n",
      "\n",
      "Gravedad De Earth Y Moon\n",
      "--------------------------------------------------------------------------------\n",
      "Nombre del Planeta: Earth\n",
      "Gravedad en Moon:1.6199999999999999 m/s^2\n",
      "\n",
      "Datos de gravedad sobre Ganímides\n",
      "------------------------------------------------------\n",
      "Nombre del Planeta: Marte\n",
      "Gravedad en Ganímides: 1.4300000000000002 m/s^2\n"
     ]
    }
   ],
   "source": [
    "name = 'Moon'\n",
    "gravity = 0.00162 #km/s\n",
    "planet = 'Earth'\n",
    "\n",
    "titulo = f'Gravedad de {planet} y {name}'\n",
    "datos = f\"\"\"{'-'*80}\n",
    "Nombre del Planeta: {planet}\n",
    "Gravedad en {name}:{gravity*1000} m/s^2\\n\"\"\"\n",
    "plantilla = f\"\"\"{titulo.title()}\n",
    "{datos}\"\"\"\n",
    "\n",
    "print(plantilla)\n",
    "\n",
    "name = 'Ganímides'\n",
    "gravity = 0.00143 #km/s\n",
    "planet = 'Marte'\n",
    "\n",
    "print(plantilla)\n",
    "\n",
    "nueva_plantilla = \"\"\"Datos de gravedad sobre {name}\n",
    "------------------------------------------------------\n",
    "Nombre del Planeta: {planet}\n",
    "Gravedad en {name}: {gravity} m/s^2\"\"\"\n",
    "\n",
    "print(nueva_plantilla.format(name=name, planet=planet, gravity=gravity*1000))"
   ]
  }
 ],
 "metadata": {
  "interpreter": {
   "hash": "6c19d1d0c0edf94f611f0c11a690477410d0681efa1dd5d3af53a1559752bc35"
  },
  "kernelspec": {
   "display_name": "Python 3.10.0 64-bit",
   "language": "python",
   "name": "python3"
  },
  "language_info": {
   "codemirror_mode": {
    "name": "ipython",
    "version": 3
   },
   "file_extension": ".py",
   "mimetype": "text/x-python",
   "name": "python",
   "nbconvert_exporter": "python",
   "pygments_lexer": "ipython3",
   "version": "3.10.0"
  },
  "orig_nbformat": 4
 },
 "nbformat": 4,
 "nbformat_minor": 2
}
