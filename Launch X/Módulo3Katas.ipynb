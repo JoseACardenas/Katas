{
 "cells": [
  {
   "cell_type": "code",
   "execution_count": 2,
   "metadata": {},
   "outputs": [
    {
     "name": "stdout",
     "output_type": "stream",
     "text": [
      "Alerta, un asteroide se aproxima a la Tierra\n"
     ]
    }
   ],
   "source": [
    "vel = 49\n",
    "if vel > 25:\n",
    "    print('Alerta, un asteroide se aproxima a la Tierra')\n",
    "else:\n",
    "    print('Todo bien')"
   ]
  },
  {
   "cell_type": "code",
   "execution_count": 6,
   "metadata": {},
   "outputs": [
    {
     "name": "stdout",
     "output_type": "stream",
     "text": [
      "Hay un asteroide pero no se puede ver\n"
     ]
    }
   ],
   "source": [
    "asteroide = 19\n",
    "\n",
    "if asteroide > 20:\n",
    "    print(\"Un asteroide se puede ver si miras al cielo\")\n",
    "elif asteroide == 20:\n",
    "    print(\"Un asteroide se puede ver si miras al cielo\")\n",
    "else:\n",
    "    print(\"Hay un asteroide pero no se puede ver\")"
   ]
  },
  {
   "cell_type": "code",
   "execution_count": 9,
   "metadata": {},
   "outputs": [
    {
     "name": "stdout",
     "output_type": "stream",
     "text": [
      "Un asteroide se puede ver si miras al cielo\n"
     ]
    }
   ],
   "source": [
    "velocidad = 30\n",
    "tamaño = 5\n",
    "if velocidad > 25 and tamaño > 25:\n",
    "    print('Alerta, un asteroide se aproxima a la Tierra')\n",
    "elif velocidad >=20:\n",
    "    print(\"Un asteroide se puede ver si miras al cielo\")\n",
    "elif tamaño < 25:\n",
    "    print('Todo bien')\n",
    "else:\n",
    "    print('Todo bien')\n"
   ]
  }
 ],
 "metadata": {
  "interpreter": {
   "hash": "6c19d1d0c0edf94f611f0c11a690477410d0681efa1dd5d3af53a1559752bc35"
  },
  "kernelspec": {
   "display_name": "Python 3.10.0 64-bit",
   "language": "python",
   "name": "python3"
  },
  "language_info": {
   "codemirror_mode": {
    "name": "ipython",
    "version": 3
   },
   "file_extension": ".py",
   "mimetype": "text/x-python",
   "name": "python",
   "nbconvert_exporter": "python",
   "pygments_lexer": "ipython3",
   "version": "3.10.0"
  },
  "orig_nbformat": 4
 },
 "nbformat": 4,
 "nbformat_minor": 2
}
